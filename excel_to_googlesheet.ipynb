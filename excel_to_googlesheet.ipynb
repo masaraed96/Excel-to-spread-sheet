{
 "cells": [
  {
   "cell_type": "code",
   "execution_count": 39,
   "metadata": {},
   "outputs": [],
   "source": [
    "import pandas as pd\n",
    "from datetime import datetime\n",
    "import gspread as gc\n",
    "import gspread\n",
    "from oauth2client.service_account import ServiceAccountCredentials\n",
    "import gspread_dataframe as gd\n",
    "\n",
    "\n",
    "#please first share your woeksheet with email_client\n",
    "def connect_to_gsheet(json_file_name, worksheet_name):\n",
    "    # use creds to create a client to interact with the Google Drive API\n",
    "    scope = ['https://spreadsheets.google.com/feeds',\n",
    "             'https://www.googleapis.com/auth/drive']\n",
    "\n",
    "\n",
    "    creds = ServiceAccountCredentials.from_json_keyfile_name(json_file_name, scope)\n",
    "    client = gspread.authorize(creds)\n",
    "\n",
    "    # Find a workbook by name and open the first sheet\n",
    "    # Make sure you use the right name here.\n",
    "    sheet = client.open(worksheet_name)\n",
    "    \n",
    "    return sheet.sheet1\n",
    "\n",
    "def prepare_df_from_xls(xls_file, date_column_name):\n",
    "    #read xls file\n",
    "    df = pd.read_excel(xls_file)\n",
    "    \n",
    "    #convert datecolunm to year-month-time\n",
    "    date = pd.to_datetime(df[date_column_name])\n",
    "    day = date.dt.date\n",
    "    time = date.dt.time\n",
    "    hour = date.dt.hour\n",
    "    \n",
    "    df = pd.DataFrame({'Date': day, 'Time': time, 'Hour of day': hour})\n",
    "    return df\n",
    "\n",
    "\n",
    "df = prepare_df_from_xls('mmm.xlsx', 'Date')\n",
    "sheet = connect_to_gsheet('masa-319813-1b2f9efb5043.json', 'masa')\n",
    "#add to google sheet\n",
    "gd.set_with_dataframe(sheet, df)"
   ]
  },
  {
   "cell_type": "code",
   "execution_count": null,
   "metadata": {},
   "outputs": [],
   "source": []
  }
 ],
 "metadata": {
  "kernelspec": {
   "display_name": "Python 3",
   "language": "python",
   "name": "python3"
  },
  "language_info": {
   "codemirror_mode": {
    "name": "ipython",
    "version": 3
   },
   "file_extension": ".py",
   "mimetype": "text/x-python",
   "name": "python",
   "nbconvert_exporter": "python",
   "pygments_lexer": "ipython3",
   "version": "3.8.5"
  }
 },
 "nbformat": 4,
 "nbformat_minor": 4
}
